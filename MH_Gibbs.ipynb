{
 "cells": [
  {
   "cell_type": "markdown",
   "metadata": {},
   "source": [
    "Edward那个是伪Gibbs，其实就是个利用condition分布的wrapper，如果不是真正的condition分布其实就是在随机游走。而且那个实现逻辑真是无力吐槽\n",
    "\n",
    "PyMC3那个gibbs采样貌似只是个特殊情况，也亏得它好意思声称自己支持gibbs采样。\n",
    "\n",
    "当然它们这些框架实现gibbs采样有自己的困难，因为无法分别到底哪些变量要分开来采样，比如Edward那个的变量替换计算图，\n",
    "因为是按变量来替换而不是变量里的每个值，如果要轮换采样也只能变量之间轮换，然而它那种构造方式决定了本来也不会有很多变量（不然字典太大了），\n",
    "所以提升的程度有限，也许正是这个原因它只实现了个伪Gibbs采样。\n",
    "\n",
    "下面我要修复该MH算法实现，实现成每个latent变量都更新一次。若要实现所有标量更新，可以程序构造大字典实现这一点，不过估计也不需要这么做。"
   ]
  },
  {
   "cell_type": "code",
   "execution_count": 1,
   "metadata": {
    "collapsed": true
   },
   "outputs": [],
   "source": [
    "import numpy as np\n",
    "import matplotlib.pyplot as plt\n",
    "%matplotlib inline\n",
    "plt.style.use('ggplot')\n",
    "import tensorflow as tf"
   ]
  },
  {
   "cell_type": "code",
   "execution_count": 2,
   "metadata": {
    "collapsed": false
   },
   "outputs": [
    {
     "name": "stdout",
     "output_type": "stream",
     "text": [
      "Wall time: 20.1 s\n"
     ]
    }
   ],
   "source": [
    "%%time\n",
    "import edward as ed\n",
    "from edward.models import Dirichlet, InverseGamma, MultivariateNormalDiag, \\\n",
    "    Normal, ParamMixture,Empirical"
   ]
  },
  {
   "cell_type": "code",
   "execution_count": 20,
   "metadata": {
    "collapsed": true
   },
   "outputs": [],
   "source": [
    "# priori model test\n",
    "\n",
    "sess = ed.get_session()\n",
    "tf.global_variables_initializer().run()"
   ]
  },
  {
   "cell_type": "code",
   "execution_count": 159,
   "metadata": {
    "collapsed": true
   },
   "outputs": [],
   "source": [
    "from collections import OrderedDict\n",
    "from edward.inferences.monte_carlo import MonteCarlo\n",
    "from edward.models import RandomVariable\n",
    "from edward.util import check_latent_vars, copy\n",
    "\n",
    "try:\n",
    "  from edward.models import Uniform\n",
    "except Exception as e:\n",
    "  raise ImportError(\"{0}. Your TensorFlow version is not supported.\".format(e))\n",
    "\n",
    "\n",
    "class MetropolisHastingsY(ed.MetropolisHastings):\n",
    "  def build_update_step(self, index, check_latent):\n",
    "    \"\"\"Draw sample from proposal conditional on last sample. Then\n",
    "    accept or reject the sample based on the ratio,\n",
    "\n",
    "    .. math::\n",
    "      \\\\text{ratio} =\n",
    "          \\log p(x, z^{\\\\text{new}}) - \\log p(x, z^{\\\\text{old}}) +\n",
    "          \\log g(z^{\\\\text{new}} \\mid z^{\\\\text{old}}) -\n",
    "          \\log g(z^{\\\\text{old}} \\mid z^{\\\\text{new}})\n",
    "\n",
    "    Notes\n",
    "    -----\n",
    "    The updates assume each Empirical random variable is directly\n",
    "    parameterized by ``tf.Variable``s.\n",
    "    \"\"\"\n",
    "    old_sample = {z: tf.gather(qz.params, tf.maximum(self.t - 1, 0))\n",
    "                  for z, qz in six.iteritems(self.latent_vars)}\n",
    "    old_sample = OrderedDict(old_sample)\n",
    "\n",
    "    # Form dictionary in order to replace conditioning on prior or\n",
    "    # observed variable with conditioning on a specific value.\n",
    "    dict_swap = {}\n",
    "    for x, qx in six.iteritems(self.data):\n",
    "      if isinstance(x, RandomVariable):\n",
    "        if isinstance(qx, RandomVariable):\n",
    "          qx_copy = copy(qx, scope='conditional')\n",
    "          dict_swap[x] = qx_copy.value()\n",
    "        else:\n",
    "          dict_swap[x] = qx\n",
    "\n",
    "    dict_swap_old = dict_swap.copy()\n",
    "    dict_swap_old.update(old_sample)\n",
    "    scope_old = 'inference_' + str(index) + 'index_' + str(id(self)) + '/old'\n",
    "    scope_new = 'inference_' + str(index) + 'index_' + str(id(self)) + '/new'\n",
    "\n",
    "    # Draw proposed sample and calculate acceptance ratio.\n",
    "    new_sample = old_sample.copy()  # copy to ensure same order\n",
    "    ratio = 0.0\n",
    "    \n",
    "    '''\n",
    "    for z, proposal_z in six.iteritems(self.proposal_vars):\n",
    "      # Build proposal g(znew | zold).\n",
    "      proposal_znew = copy(proposal_z, dict_swap_old, scope=scope_old)\n",
    "      # Sample znew ~ g(znew | zold).\n",
    "      new_sample[z] = proposal_znew.value()\n",
    "      # Increment ratio.\n",
    "      ratio += tf.reduce_sum(proposal_znew.log_prob(new_sample[z]))\n",
    "    '''\n",
    "    z, proposal_z = check_latent, self.proposal_vars[check_latent]\n",
    "    # Build proposal g(znew | zold).\n",
    "    proposal_znew = copy(proposal_z, dict_swap_old, scope=scope_old)\n",
    "    # Sample znew ~ g(znew | zold).\n",
    "    new_sample[z] = proposal_znew.value()\n",
    "    # Increment ratio.\n",
    "    ratio += tf.reduce_sum(proposal_znew.log_prob(new_sample[z]))\n",
    "\n",
    "    dict_swap_new = dict_swap.copy()\n",
    "    dict_swap_new.update(new_sample)\n",
    "\n",
    "    '''\n",
    "    for z, proposal_z in six.iteritems(self.proposal_vars):\n",
    "      # Build proposal g(zold | znew).\n",
    "      proposal_zold = copy(proposal_z, dict_swap_new, scope=scope_new)\n",
    "      # Increment ratio.\n",
    "      ratio -= tf.reduce_sum(proposal_zold.log_prob(dict_swap_old[z]))\n",
    "    '''\n",
    "    z, proposal_z = check_latent,self.proposal_vars[check_latent]\n",
    "    # Build proposal g(zold | znew).\n",
    "    proposal_zold = copy(proposal_z, dict_swap_new, scope=scope_new)\n",
    "    # Increment ratio.\n",
    "    ratio -= tf.reduce_sum(proposal_zold.log_prob(dict_swap_old[z]))\n",
    "\n",
    "\n",
    "    for z in six.iterkeys(self.latent_vars):\n",
    "      # Build priors p(znew) and p(zold).\n",
    "      znew = copy(z, dict_swap_new, scope=scope_new)\n",
    "      zold = copy(z, dict_swap_old, scope=scope_old)\n",
    "      # Increment ratio.\n",
    "      ratio += tf.reduce_sum(znew.log_prob(dict_swap_new[z]))\n",
    "      ratio -= tf.reduce_sum(zold.log_prob(dict_swap_old[z]))\n",
    "\n",
    "    for x in six.iterkeys(self.data):\n",
    "      if isinstance(x, RandomVariable):\n",
    "        # Build likelihoods p(x | znew) and p(x | zold).\n",
    "        x_znew = copy(x, dict_swap_new, scope=scope_new)\n",
    "        x_zold = copy(x, dict_swap_old, scope=scope_old)\n",
    "        # Increment ratio.\n",
    "        ratio += tf.reduce_sum(x_znew.log_prob(dict_swap[x]))\n",
    "        ratio -= tf.reduce_sum(x_zold.log_prob(dict_swap[x]))\n",
    "\n",
    "    # Accept or reject sample.\n",
    "    u = Uniform().sample()\n",
    "    accept = tf.log(u) < ratio\n",
    "    sample_values = tf.cond(accept, lambda: list(six.itervalues(new_sample)),\n",
    "                            lambda: list(six.itervalues(old_sample)))\n",
    "    if not isinstance(sample_values, list):\n",
    "      # ``tf.cond`` returns tf.Tensor if output is a list of size 1.\n",
    "      sample_values = [sample_values]\n",
    "\n",
    "    sample = {z: sample_value for z, sample_value in\n",
    "              zip(six.iterkeys(new_sample), sample_values)}\n",
    "\n",
    "    # Update Empirical random variables.\n",
    "    assign_ops = []\n",
    "    for z, qz in six.iteritems(self.latent_vars):\n",
    "      variable = qz.get_variables()[0]\n",
    "      assign_ops.append(tf.scatter_update(variable, self.t, sample[z]))\n",
    "\n",
    "    # Increment n_accept (if accepted).\n",
    "    assign_ops.append(self.n_accept.assign_add(tf.where(accept, 1, 0)))\n",
    "    #return tf.group(*assign_ops)\n",
    "    return assign_ops\n",
    "  def build_update(self):\n",
    "    assign_ops = []\n",
    "    for i,z in enumerate(six.iterkeys(self.latent_vars)):\n",
    "        assign_ops.extend(self.build_update_step(i,z))\n",
    "    return tf.group(*assign_ops)\n"
   ]
  },
  {
   "cell_type": "code",
   "execution_count": null,
   "metadata": {
    "collapsed": true
   },
   "outputs": [],
   "source": [
    "ed.inferences.metropolis_hastings"
   ]
  },
  {
   "cell_type": "code",
   "execution_count": 127,
   "metadata": {
    "collapsed": false
   },
   "outputs": [],
   "source": [
    "oX = np.random.normal(loc=20,scale=1,size=(100))"
   ]
  },
  {
   "cell_type": "code",
   "execution_count": 128,
   "metadata": {
    "collapsed": false
   },
   "outputs": [],
   "source": [
    "loc = Normal(loc = 0.0, scale = 1.0)\n",
    "scale = Normal(loc = 2.0, scale = 0.5)\n",
    "X = Normal(loc = loc, scale = scale, sample_shape = 100)"
   ]
  },
  {
   "cell_type": "code",
   "execution_count": 141,
   "metadata": {
    "collapsed": false
   },
   "outputs": [],
   "source": [
    "T = 2000\n",
    "\n",
    "iloc = np.ones([T]).astype('float32') / 1\n",
    "iscale = np.ones([T]).astype('float32') / 1\n",
    "\n",
    "qloc = Empirical(params=tf.Variable(iloc))\n",
    "qscale = Empirical(params=tf.Variable(iscale))"
   ]
  },
  {
   "cell_type": "code",
   "execution_count": 142,
   "metadata": {
    "collapsed": true
   },
   "outputs": [],
   "source": [
    "gloc = Normal(loc=loc, scale=0.1)\n",
    "gscale = Normal(loc=scale, scale=0.1)"
   ]
  },
  {
   "cell_type": "code",
   "execution_count": 143,
   "metadata": {
    "collapsed": false
   },
   "outputs": [
    {
     "data": {
      "text/plain": [
       "(<ed.RandomVariable 'Normal_140/' shape=() dtype=float32>,\n",
       " <ed.RandomVariable 'Empirical_110/' shape=() dtype=float32>,\n",
       " <ed.RandomVariable 'Normal_143/' shape=() dtype=float32>,\n",
       " <ed.RandomVariable 'Empirical_113/' shape=() dtype=float32>)"
      ]
     },
     "execution_count": 143,
     "metadata": {},
     "output_type": "execute_result"
    }
   ],
   "source": [
    "loc,qloc,scale,qscale"
   ]
  },
  {
   "cell_type": "code",
   "execution_count": 144,
   "metadata": {
    "collapsed": false
   },
   "outputs": [
    {
     "data": {
      "text/plain": [
       "array([ 19.91355895,  18.40670368,  18.59969577,  18.86410579,\n",
       "        20.4343901 ,  21.35427151,  19.83689155,  19.14357672,\n",
       "        21.23984161,  20.34995258,  20.18520662,  20.98671172,\n",
       "        21.10687748,  20.54932266,  18.18995712,  22.26882523,\n",
       "        20.87928338,  18.88992544,  19.83686717,  18.85701113,\n",
       "        19.79065947,  23.48198442,  18.03542564,  21.18021636,\n",
       "        23.21370797,  20.98478449,  19.510328  ,  18.88790649,\n",
       "        20.20241096,  19.09918505,  19.34836649,  21.42982827,\n",
       "        19.23958015,  20.85271558,  21.13941018,  20.69839184,\n",
       "        18.76442389,  21.2345607 ,  18.22676644,  19.1817773 ,\n",
       "        21.06015233,  19.43238248,  20.87742362,  20.80199677,\n",
       "        18.94888487,  19.70942664,  20.27136606,  19.62839745,\n",
       "        21.76215215,  17.86213328,  18.79348855,  22.10878654,\n",
       "        19.59022038,  21.52601732,  19.1210796 ,  20.62444435,\n",
       "        18.61747093,  20.45265928,  19.89462126,  19.56502293,\n",
       "        19.76026983,  19.07282194,  20.7963744 ,  20.38402464,\n",
       "        19.23226888,  20.10089288,  22.70579485,  19.30938041,\n",
       "        19.11173067,  19.86896357,  20.41227946,  19.28338312,\n",
       "        19.3063114 ,  21.16566991,  20.26147529,  21.27399092,\n",
       "        20.60181832,  19.88851624,  20.01290915,  17.85125223,\n",
       "        17.32750497,  18.94965166,  19.5292209 ,  20.39469489,\n",
       "        20.40025247,  19.74047128,  21.26251523,  18.4780068 ,\n",
       "        21.38259601,  19.48796952,  19.69569414,  18.94761914,\n",
       "        17.98367249,  19.9241911 ,  19.89381933,  19.84310717,\n",
       "        19.02279775,  20.85097442,  18.239091  ,  19.80652108])"
      ]
     },
     "execution_count": 144,
     "metadata": {},
     "output_type": "execute_result"
    }
   ],
   "source": [
    "oX"
   ]
  },
  {
   "cell_type": "code",
   "execution_count": 145,
   "metadata": {
    "collapsed": false
   },
   "outputs": [],
   "source": [
    "inference = ed.MetropolisHastings({loc: qloc, scale: qscale},\n",
    "                                {loc: gloc, scale: gscale},\n",
    "                                {X: oX})"
   ]
  },
  {
   "cell_type": "code",
   "execution_count": 146,
   "metadata": {
    "collapsed": false
   },
   "outputs": [
    {
     "name": "stdout",
     "output_type": "stream",
     "text": [
      "2000/2000 [100%] ██████████████████████████████ Elapsed: 2s | Acceptance Rate: 0.599\n"
     ]
    }
   ],
   "source": [
    "inference.run()"
   ]
  },
  {
   "cell_type": "code",
   "execution_count": 147,
   "metadata": {
    "collapsed": false
   },
   "outputs": [
    {
     "data": {
      "text/plain": [
       "[<matplotlib.lines.Line2D at 0x19084940>]"
      ]
     },
     "execution_count": 147,
     "metadata": {},
     "output_type": "execute_result"
    },
    {
     "data": {
      "image/png": "[encoded data removed]",
      "text/plain": [
       "<matplotlib.figure.Figure at 0x19079630>"
      ]
     },
     "metadata": {},
     "output_type": "display_data"
    }
   ],
   "source": [
    "plt.plot(qloc.params.eval())"
   ]
  },
  {
   "cell_type": "code",
   "execution_count": 148,
   "metadata": {
    "collapsed": false
   },
   "outputs": [
    {
     "data": {
      "text/plain": [
       "[<matplotlib.lines.Line2D at 0x190e45f8>]"
      ]
     },
     "execution_count": 148,
     "metadata": {},
     "output_type": "execute_result"
    },
    {
     "data": {
      "image/png": "[encoded data removed]",
      "text/plain": [
       "<matplotlib.figure.Figure at 0x177424a8>"
      ]
     },
     "metadata": {},
     "output_type": "display_data"
    }
   ],
   "source": [
    "plt.plot(qscale.params.eval())"
   ]
  },
  {
   "cell_type": "code",
   "execution_count": 153,
   "metadata": {
    "collapsed": false
   },
   "outputs": [],
   "source": [
    "inference = MetropolisHastingsY({loc: qloc, scale: qscale},\n",
    "                                {loc: gloc, scale: gscale},\n",
    "                                {X: oX})"
   ]
  },
  {
   "cell_type": "code",
   "execution_count": 160,
   "metadata": {
    "collapsed": false
   },
   "outputs": [
    {
     "name": "stdout",
     "output_type": "stream",
     "text": [
      "2000/2000 [100%] ██████████████████████████████ Elapsed: 2s | Acceptance Rate: 1.412\n"
     ]
    }
   ],
   "source": [
    "inference.run()"
   ]
  },
  {
   "cell_type": "code",
   "execution_count": 161,
   "metadata": {
    "collapsed": false
   },
   "outputs": [
    {
     "data": {
      "text/plain": [
       "[<matplotlib.lines.Line2D at 0x1a96e860>]"
      ]
     },
     "execution_count": 161,
     "metadata": {},
     "output_type": "execute_result"
    },
    {
     "data": {
      "image/png": "[encoded data removed]",
      "text/plain": [
       "<matplotlib.figure.Figure at 0x1a7ab7f0>"
      ]
     },
     "metadata": {},
     "output_type": "display_data"
    }
   ],
   "source": [
    "plt.plot(qloc.params.eval())"
   ]
  },
  {
   "cell_type": "code",
   "execution_count": 162,
   "metadata": {
    "collapsed": false
   },
   "outputs": [
    {
     "data": {
      "text/plain": [
       "[<matplotlib.lines.Line2D at 0x1a94e390>]"
      ]
     },
     "execution_count": 162,
     "metadata": {},
     "output_type": "execute_result"
    },
    {
     "data": {
      "image/png": "[encoded data removed]",
      "text/plain": [
       "<matplotlib.figure.Figure at 0x1a7c4b38>"
      ]
     },
     "metadata": {},
     "output_type": "display_data"
    }
   ],
   "source": [
    "plt.plot(qscale.params.eval())"
   ]
  },
  {
   "cell_type": "code",
   "execution_count": null,
   "metadata": {
    "collapsed": true
   },
   "outputs": [],
   "source": []
  }
 ],
 "metadata": {
  "kernelspec": {
   "display_name": "Python [Root]",
   "language": "python",
   "name": "Python [Root]"
  },
  "language_info": {
   "codemirror_mode": {
    "name": "ipython",
    "version": 3
   },
   "file_extension": ".py",
   "mimetype": "text/x-python",
   "name": "python",
   "nbconvert_exporter": "python",
   "pygments_lexer": "ipython3",
   "version": "3.5.2"
  }
 },
 "nbformat": 4,
 "nbformat_minor": 0
}
