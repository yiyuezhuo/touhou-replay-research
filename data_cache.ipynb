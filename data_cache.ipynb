{
 "cells": [
  {
   "cell_type": "code",
   "execution_count": 1,
   "metadata": {
    "collapsed": true
   },
   "outputs": [],
   "source": [
    "import numpy as np\n",
    "import matplotlib.pyplot as plt\n",
    "%matplotlib inline\n",
    "plt.style.use('ggplot')\n",
    "\n",
    "from explore_tool import load_info,press,pressing,frame_to_delta,replay_to_xy,plot_trace_2d,plot_trace_3d,plot_trace_sequence,summary,\\\n",
    "    look_pressing,delta_equip,load_infos,show_pressing_in_time,show_pressing_in_time2"
   ]
  },
  {
   "cell_type": "code",
   "execution_count": 2,
   "metadata": {
    "collapsed": false
   },
   "outputs": [
    {
     "name": "stdout",
     "output_type": "stream",
     "text": [
      "Wall time: 11.1 s\n"
     ]
    }
   ],
   "source": [
    "%%time\n",
    "infos = load_infos('replay_int16/RB')\n",
    "# 结果被迫优化读取方式以免卡爆内存"
   ]
  },
  {
   "cell_type": "code",
   "execution_count": 3,
   "metadata": {
    "collapsed": false
   },
   "outputs": [
    {
     "data": {
      "text/plain": [
       "array([11520, 13158, 15880, 17332, 20524, 24119])"
      ]
     },
     "execution_count": 3,
     "metadata": {},
     "output_type": "execute_result"
    }
   ],
   "source": [
    "info_list = list(infos.values())\n",
    "info = infos['th10_ud000c.rpy.json.pickle']\n",
    "replay = info['stages'][0]['replay']\n",
    "\n",
    "frame_matrix = np.array([[info['stages'][i]['frame'] for i in range(6)] for info in info_list])\n",
    "frame_matrix.max(axis=0)"
   ]
  },
  {
   "cell_type": "code",
   "execution_count": 4,
   "metadata": {
    "collapsed": false
   },
   "outputs": [
    {
     "name": "stdout",
     "output_type": "stream",
     "text": [
      "Wall time: 4.73 s\n"
     ]
    }
   ],
   "source": [
    "%%time \n",
    "for info in info_list:\n",
    "    delta_equip(info)"
   ]
  },
  {
   "cell_type": "code",
   "execution_count": 5,
   "metadata": {
    "collapsed": false
   },
   "outputs": [
    {
     "data": {
      "text/plain": [
       "array([193, 220, 265, 289, 343, 402], dtype=int32)"
      ]
     },
     "execution_count": 5,
     "metadata": {},
     "output_type": "execute_result"
    }
   ],
   "source": [
    "frame_matrix.max(axis=0)//60 + 1"
   ]
  },
  {
   "cell_type": "code",
   "execution_count": 6,
   "metadata": {
    "collapsed": false
   },
   "outputs": [
    {
     "data": {
      "text/plain": [
       "202"
      ]
     },
     "execution_count": 6,
     "metadata": {},
     "output_type": "execute_result"
    }
   ],
   "source": [
    "len(info_list)"
   ]
  },
  {
   "cell_type": "code",
   "execution_count": 7,
   "metadata": {
    "collapsed": false
   },
   "outputs": [
    {
     "name": "stdout",
     "output_type": "stream",
     "text": [
      "Wall time: 12.5 s\n"
     ]
    }
   ],
   "source": [
    "%%time\n",
    "stage_list = []\n",
    "choose_keys = ['pressing_shift','pressing_ctrl','pressing_x','move']\n",
    "replay_number = len(info_list)\n",
    "for i,max_second in enumerate(frame_matrix.max(axis=0)//60 + 1):\n",
    "    stage_arr = np.zeros((replay_number,len(choose_keys),max_second))\n",
    "    for j,info in enumerate(info_list):\n",
    "        df = info['stages'][i]['replay'][choose_keys]\n",
    "        df = df.groupby(df.index.map(lambda t:t//60)).sum()\n",
    "        mat = df.as_matrix()\n",
    "        stage_arr[j,:,:mat.shape[0]] = np.transpose(mat)\n",
    "    stage_list.append(stage_arr)"
   ]
  },
  {
   "cell_type": "code",
   "execution_count": 8,
   "metadata": {
    "collapsed": false
   },
   "outputs": [
    {
     "name": "stdout",
     "output_type": "stream",
     "text": [
      "(202, 4, 193)\n",
      "(202, 4, 220)\n",
      "(202, 4, 265)\n",
      "(202, 4, 289)\n",
      "(202, 4, 343)\n",
      "(202, 4, 402)\n"
     ]
    }
   ],
   "source": [
    "for stage_arr in stage_list:\n",
    "    print(stage_arr.shape)"
   ]
  },
  {
   "cell_type": "code",
   "execution_count": 9,
   "metadata": {
    "collapsed": true
   },
   "outputs": [],
   "source": [
    "t = 4 # talk mean\n",
    "\n",
    "time_length_list = [\n",
    "    [(80,3),(t,1),(47,10),(t,1)], # stage 1\n",
    "    [(96,3),(t,1),(63,10),(t,1)], # stage 2\n",
    "    [(60,3),(3,1),(20,1),(t,1),(20,5),(25,3),(t,1),(65,10),(t,1)], # stage 3\n",
    "    [(145,10),(t,1),(100,20),(t,1)], # stage 4\n",
    "    [(130,5),(t,1),(110,20),(t,1)], # stage 5\n",
    "    [(58,3),(t,1),(240,60)] # stage 6\n",
    "]\n"
   ]
  },
  {
   "cell_type": "code",
   "execution_count": 10,
   "metadata": {
    "collapsed": true
   },
   "outputs": [],
   "source": [
    "scen_4_meansd = []\n",
    "for stage,time_length_mean_std in zip(stage_list,time_length_list):\n",
    "    length = stage.shape[2]\n",
    "    rights = np.array([item[0] for item in time_length_mean_std]).cumsum().tolist() + [length]\n",
    "    \n",
    "    four_musd = []\n",
    "    \n",
    "    for i,right in enumerate(rights):\n",
    "        left = rights[i-1] if i >= 1 else 0\n",
    "        \n",
    "        musd = []\n",
    "        \n",
    "        for j in range(4):\n",
    "            # we apply entire sub matrix instead of some array since we assume they're independ in sample and time\n",
    "            mu = stage[:,j,left:right].mean() \n",
    "            sd = stage[:,j,left:right].std()\n",
    "            musd.append([mu,sd])\n",
    "        four_musd.append(musd)\n",
    "    scen_4_meansd.append(four_musd)"
   ]
  },
  {
   "cell_type": "code",
   "execution_count": 11,
   "metadata": {
    "collapsed": true
   },
   "outputs": [],
   "source": [
    "latent_scen_4_meansd = []\n",
    "border_std = [10,10,10,10,10]\n",
    "for stage in scen_4_meansd:\n",
    "    priori_list = []\n",
    "    for period in stage:\n",
    "        priori = [period[0][0], border_std[0]],[period[1][0],border_std[1]],[period[2][0],border_std[2]],\\\n",
    "                    [period[3][0],border_std[3]],[period[3][1],border_std[4]]\n",
    "        priori_list.append(priori)\n",
    "    latent_scen_4_meansd.append(priori_list)"
   ]
  },
  {
   "cell_type": "code",
   "execution_count": null,
   "metadata": {
    "collapsed": true
   },
   "outputs": [],
   "source": []
  },
  {
   "cell_type": "code",
   "execution_count": 13,
   "metadata": {
    "collapsed": false
   },
   "outputs": [
    {
     "name": "stdout",
     "output_type": "stream",
     "text": [
      "Wall time: 0 ns\n"
     ]
    }
   ],
   "source": [
    "%%time\n",
    "import pymc3 as pm\n",
    "from pymc3 import Normal,Poisson\n",
    "from pymc3.math import switch,where"
   ]
  },
  {
   "cell_type": "markdown",
   "metadata": {},
   "source": [
    "这尼玛已经占了90%的内存了还跑个屁MCMC"
   ]
  },
  {
   "cell_type": "code",
   "execution_count": 17,
   "metadata": {
    "collapsed": false
   },
   "outputs": [],
   "source": [
    "arr = stage_list[0]"
   ]
  },
  {
   "cell_type": "code",
   "execution_count": 18,
   "metadata": {
    "collapsed": false
   },
   "outputs": [
    {
     "data": {
      "text/plain": [
       "155944"
      ]
     },
     "execution_count": 18,
     "metadata": {},
     "output_type": "execute_result"
    }
   ],
   "source": [
    "arr.size"
   ]
  },
  {
   "cell_type": "code",
   "execution_count": 20,
   "metadata": {
    "collapsed": false
   },
   "outputs": [
    {
     "data": {
      "text/plain": [
       "155944"
      ]
     },
     "execution_count": 20,
     "metadata": {},
     "output_type": "execute_result"
    }
   ],
   "source": [
    "arr.astype('float16')"
   ]
  },
  {
   "cell_type": "code",
   "execution_count": 23,
   "metadata": {
    "collapsed": false
   },
   "outputs": [
    {
     "data": {
      "text/plain": [
       "1247552"
      ]
     },
     "execution_count": 23,
     "metadata": {},
     "output_type": "execute_result"
    }
   ],
   "source": [
    "len(arr.tobytes())"
   ]
  },
  {
   "cell_type": "code",
   "execution_count": 25,
   "metadata": {
    "collapsed": false
   },
   "outputs": [
    {
     "data": {
      "text/plain": [
       "311888"
      ]
     },
     "execution_count": 25,
     "metadata": {},
     "output_type": "execute_result"
    }
   ],
   "source": [
    "len(arr.astype('float16').tobytes())"
   ]
  },
  {
   "cell_type": "code",
   "execution_count": 26,
   "metadata": {
    "collapsed": false
   },
   "outputs": [
    {
     "data": {
      "text/plain": [
       "array([[[   0. ,    0. ,    0. , ...,    0. ,    0. ,    0. ],\n",
       "        [   0. ,    0. ,    0. , ...,    0. ,    0. ,    0. ],\n",
       "        [   0. ,    0. ,    0. , ...,    0. ,    0. ,    0. ],\n",
       "        [   0. ,    0. ,  162. , ...,    0. ,    0. ,    0. ]],\n",
       "\n",
       "       [[   0. ,    0. ,    2. , ...,    0. ,    0. ,    0. ],\n",
       "        [   0. ,    0. ,    0. , ...,    0. ,    0. ,    0. ],\n",
       "        [   0. ,    0. ,    0. , ...,    0. ,    0. ,    0. ],\n",
       "        [   0. ,    0. ,  148.5, ...,    0. ,    0. ,    0. ]],\n",
       "\n",
       "       [[  12. ,   60. ,   60. , ...,    0. ,    0. ,    0. ],\n",
       "        [   0. ,    0. ,    0. , ...,    0. ,    0. ,    0. ],\n",
       "        [   0. ,    0. ,    0. , ...,    0. ,    0. ,    0. ],\n",
       "        [ 316.5,    2. ,    0. , ...,    0. ,    0. ,    0. ]],\n",
       "\n",
       "       ..., \n",
       "       [[   4. ,   60. ,   60. , ...,    0. ,    0. ,    0. ],\n",
       "        [   0. ,    0. ,    0. , ...,    0. ,    0. ,    0. ],\n",
       "        [   0. ,    0. ,    0. , ...,    0. ,    0. ,    0. ],\n",
       "        [ 489.5,   20. ,    0. , ...,    0. ,    0. ,    0. ]],\n",
       "\n",
       "       [[   0. ,    0. ,    0. , ...,    0. ,    0. ,    0. ],\n",
       "        [   0. ,    0. ,    0. , ...,    0. ,    0. ,    0. ],\n",
       "        [   0. ,    0. ,    0. , ...,    0. ,    0. ,    0. ],\n",
       "        [   0. ,  211.5,  130.5, ...,    0. ,    0. ,    0. ]],\n",
       "\n",
       "       [[   0. ,    0. ,   10. , ...,    0. ,    0. ,    0. ],\n",
       "        [   0. ,    0. ,    0. , ...,    0. ,    0. ,    0. ],\n",
       "        [   0. ,    0. ,    0. , ...,    0. ,    0. ,    0. ],\n",
       "        [ 342. ,    0. ,    6. , ...,    0. ,    0. ,    0. ]]], dtype=float16)"
      ]
     },
     "execution_count": 26,
     "metadata": {},
     "output_type": "execute_result"
    }
   ],
   "source": [
    "arr.astype('float16')"
   ]
  },
  {
   "cell_type": "code",
   "execution_count": 27,
   "metadata": {
    "collapsed": false
   },
   "outputs": [
    {
     "data": {
      "text/plain": [
       "array([[[   0. ,    0. ,    0. , ...,    0. ,    0. ,    0. ],\n",
       "        [   0. ,    0. ,    0. , ...,    0. ,    0. ,    0. ],\n",
       "        [   0. ,    0. ,    0. , ...,    0. ,    0. ,    0. ],\n",
       "        [   0. ,    0. ,  162. , ...,    0. ,    0. ,    0. ]],\n",
       "\n",
       "       [[   0. ,    0. ,    2. , ...,    0. ,    0. ,    0. ],\n",
       "        [   0. ,    0. ,    0. , ...,    0. ,    0. ,    0. ],\n",
       "        [   0. ,    0. ,    0. , ...,    0. ,    0. ,    0. ],\n",
       "        [   0. ,    0. ,  148.5, ...,    0. ,    0. ,    0. ]],\n",
       "\n",
       "       [[  12. ,   60. ,   60. , ...,    0. ,    0. ,    0. ],\n",
       "        [   0. ,    0. ,    0. , ...,    0. ,    0. ,    0. ],\n",
       "        [   0. ,    0. ,    0. , ...,    0. ,    0. ,    0. ],\n",
       "        [ 316.5,    2. ,    0. , ...,    0. ,    0. ,    0. ]],\n",
       "\n",
       "       ..., \n",
       "       [[   4. ,   60. ,   60. , ...,    0. ,    0. ,    0. ],\n",
       "        [   0. ,    0. ,    0. , ...,    0. ,    0. ,    0. ],\n",
       "        [   0. ,    0. ,    0. , ...,    0. ,    0. ,    0. ],\n",
       "        [ 489.5,   20. ,    0. , ...,    0. ,    0. ,    0. ]],\n",
       "\n",
       "       [[   0. ,    0. ,    0. , ...,    0. ,    0. ,    0. ],\n",
       "        [   0. ,    0. ,    0. , ...,    0. ,    0. ,    0. ],\n",
       "        [   0. ,    0. ,    0. , ...,    0. ,    0. ,    0. ],\n",
       "        [   0. ,  211.5,  130.5, ...,    0. ,    0. ,    0. ]],\n",
       "\n",
       "       [[   0. ,    0. ,   10. , ...,    0. ,    0. ,    0. ],\n",
       "        [   0. ,    0. ,    0. , ...,    0. ,    0. ,    0. ],\n",
       "        [   0. ,    0. ,    0. , ...,    0. ,    0. ,    0. ],\n",
       "        [ 342. ,    0. ,    6. , ...,    0. ,    0. ,    0. ]]])"
      ]
     },
     "execution_count": 27,
     "metadata": {},
     "output_type": "execute_result"
    }
   ],
   "source": [
    "arr"
   ]
  },
  {
   "cell_type": "markdown",
   "metadata": {},
   "source": [
    "看起来还行。。没办法了，全部转成float16节省内存，如果可能的话，起码也可以降成float32，因为theano刻意标出了这个特性。\n",
    "然后中间过程就省掉了。\n",
    "\n",
    "事实证明不能用float16只能用float32.."
   ]
  },
  {
   "cell_type": "code",
   "execution_count": 32,
   "metadata": {
    "collapsed": true
   },
   "outputs": [],
   "source": [
    "stage_list_float16 = [stage.astype('float16') for stage in stage_list]"
   ]
  },
  {
   "cell_type": "code",
   "execution_count": 33,
   "metadata": {
    "collapsed": false
   },
   "outputs": [
    {
     "data": {
      "text/plain": [
       "dtype('float16')"
      ]
     },
     "execution_count": 33,
     "metadata": {},
     "output_type": "execute_result"
    }
   ],
   "source": [
    "stage_list_float16[0].dtype"
   ]
  },
  {
   "cell_type": "code",
   "execution_count": 34,
   "metadata": {
    "collapsed": false
   },
   "outputs": [
    {
     "data": {
      "text/plain": [
       "(202, 4, 193)"
      ]
     },
     "execution_count": 34,
     "metadata": {},
     "output_type": "execute_result"
    }
   ],
   "source": [
    "stage_list_float16[0].shape"
   ]
  },
  {
   "cell_type": "code",
   "execution_count": 35,
   "metadata": {
    "collapsed": true
   },
   "outputs": [],
   "source": [
    "cache_dict = {\n",
    "    'latent_scen_4_meansd': latent_scen_4_meansd,\n",
    "    'time_length_list': time_length_list,\n",
    "    'stage_list_float16': stage_list_float16\n",
    "}"
   ]
  },
  {
   "cell_type": "code",
   "execution_count": 37,
   "metadata": {
    "collapsed": false
   },
   "outputs": [],
   "source": [
    "import pickle"
   ]
  },
  {
   "cell_type": "code",
   "execution_count": 38,
   "metadata": {
    "collapsed": true
   },
   "outputs": [],
   "source": [
    "with open('cache_dict_float16','wb') as f:\n",
    "    pickle.dump(cache_dict, f)"
   ]
  },
  {
   "cell_type": "markdown",
   "metadata": {},
   "source": [
    "# float 32 fold"
   ]
  },
  {
   "cell_type": "code",
   "execution_count": 12,
   "metadata": {
    "collapsed": true
   },
   "outputs": [],
   "source": [
    "import pickle\n",
    "stage_list_float32 = [stage.astype('float32') for stage in stage_list]\n",
    "cache_dict = {\n",
    "    'latent_scen_4_meansd': latent_scen_4_meansd,\n",
    "    'time_length_list': time_length_list,\n",
    "    'stage_list_float32': stage_list_float32\n",
    "}\n",
    "with open('cache_dict_float32','wb') as f:\n",
    "    pickle.dump(cache_dict, f)"
   ]
  },
  {
   "cell_type": "code",
   "execution_count": null,
   "metadata": {
    "collapsed": true
   },
   "outputs": [],
   "source": []
  }
 ],
 "metadata": {
  "kernelspec": {
   "display_name": "Python [Root]",
   "language": "python",
   "name": "Python [Root]"
  },
  "language_info": {
   "codemirror_mode": {
    "name": "ipython",
    "version": 3
   },
   "file_extension": ".py",
   "mimetype": "text/x-python",
   "name": "python",
   "nbconvert_exporter": "python",
   "pygments_lexer": "ipython3",
   "version": "3.5.2"
  }
 },
 "nbformat": 4,
 "nbformat_minor": 0
}
