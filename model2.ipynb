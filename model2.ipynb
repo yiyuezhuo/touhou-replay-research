{
 "cells": [
  {
   "cell_type": "code",
   "execution_count": 1,
   "metadata": {
    "collapsed": true
   },
   "outputs": [],
   "source": [
    "import numpy as np\n",
    "import matplotlib.pyplot as plt\n",
    "%matplotlib inline\n",
    "plt.style.use('ggplot')\n",
    "import theano.tensor as tt"
   ]
  },
  {
   "cell_type": "code",
   "execution_count": 2,
   "metadata": {
    "collapsed": true
   },
   "outputs": [],
   "source": [
    "import pickle\n",
    "with open('cache_dict_float32','rb') as f:\n",
    "    cache_dict_float32 = pickle.load(f)"
   ]
  },
  {
   "cell_type": "code",
   "execution_count": 3,
   "metadata": {
    "collapsed": false
   },
   "outputs": [
    {
     "data": {
      "text/plain": [
       "dict_keys(['stage_list_float32', 'time_length_list', 'latent_scen_4_meansd'])"
      ]
     },
     "execution_count": 3,
     "metadata": {},
     "output_type": "execute_result"
    }
   ],
   "source": [
    "cache_dict_float32.keys()"
   ]
  },
  {
   "cell_type": "code",
   "execution_count": 5,
   "metadata": {
    "collapsed": false
   },
   "outputs": [],
   "source": [
    "stage_list = cache_dict_float32['stage_list_float32']\n",
    "time_length_list = cache_dict_float32['time_length_list']\n",
    "latent_scen_4_meansd = cache_dict_float32['latent_scen_4_meansd']"
   ]
  },
  {
   "cell_type": "code",
   "execution_count": 6,
   "metadata": {
    "collapsed": false
   },
   "outputs": [
    {
     "data": {
      "text/plain": [
       "dtype('float32')"
      ]
     },
     "execution_count": 6,
     "metadata": {},
     "output_type": "execute_result"
    }
   ],
   "source": [
    "stage_list[0].dtype"
   ]
  },
  {
   "cell_type": "markdown",
   "metadata": {},
   "source": [
    "开始试图单独推断一个stage的内容来做一个初步的优化，实在不行再子采样，变分推断或者强行分成四个变量估计再合并起来，\n",
    "这些没有理论正确性的方法还是越少用越好。\n",
    "\n",
    "先尝试处理stage1"
   ]
  },
  {
   "cell_type": "code",
   "execution_count": 7,
   "metadata": {
    "collapsed": true
   },
   "outputs": [],
   "source": [
    "stage = stage_list[0]"
   ]
  },
  {
   "cell_type": "code",
   "execution_count": 8,
   "metadata": {
    "collapsed": false
   },
   "outputs": [
    {
     "name": "stdout",
     "output_type": "stream",
     "text": [
      "Wall time: 17.4 s\n"
     ]
    }
   ],
   "source": [
    "%%time\n",
    "import pymc3 as pm\n",
    "from pymc3 import Normal,Poisson,Deterministic\n",
    "from pymc3.math import switch,where"
   ]
  },
  {
   "cell_type": "code",
   "execution_count": 27,
   "metadata": {
    "collapsed": true
   },
   "outputs": [],
   "source": [
    "from pymc3 import Deterministic"
   ]
  },
  {
   "cell_type": "code",
   "execution_count": 115,
   "metadata": {
    "collapsed": true
   },
   "outputs": [],
   "source": [
    "model = pm.Model()"
   ]
  },
  {
   "cell_type": "code",
   "execution_count": 116,
   "metadata": {
    "collapsed": false
   },
   "outputs": [
    {
     "data": {
      "text/plain": [
       "(202, 4, 193)"
      ]
     },
     "execution_count": 116,
     "metadata": {},
     "output_type": "execute_result"
    }
   ],
   "source": [
    "stage.shape"
   ]
  },
  {
   "cell_type": "code",
   "execution_count": 117,
   "metadata": {
    "collapsed": true
   },
   "outputs": [],
   "source": [
    "meansd = np.array(latent_scen_4_meansd[0],dtype='float32')"
   ]
  },
  {
   "cell_type": "code",
   "execution_count": 118,
   "metadata": {
    "collapsed": false
   },
   "outputs": [
    {
     "data": {
      "text/plain": [
       "(5, 5, 2)"
      ]
     },
     "execution_count": 118,
     "metadata": {},
     "output_type": "execute_result"
    }
   ],
   "source": [
    "meansd.shape"
   ]
  },
  {
   "cell_type": "code",
   "execution_count": 119,
   "metadata": {
    "collapsed": false
   },
   "outputs": [
    {
     "data": {
      "text/plain": [
       "array([[  2.18402843e+01,   3.54579203e-02,   4.56683151e-02,\n",
       "          1.89574936e+02,   1.26586617e+02],\n",
       "       [  1.14839106e+01,   1.48279705e+01,   7.30198026e-02,\n",
       "          1.74373138e+02,   1.38980789e+02],\n",
       "       [  4.33452721e+01,   1.13629663e+00,   1.68316826e-01,\n",
       "          8.65855789e+01,   9.01471710e+01],\n",
       "       [  1.76967831e+01,   2.27722764e+00,   5.69306947e-02,\n",
       "          5.34375000e+01,   9.23385925e+01],\n",
       "       [  4.13647985e+00,   2.19358146e-01,   1.69853196e-02,\n",
       "          8.93790531e+00,   3.92387962e+01]], dtype=float32)"
      ]
     },
     "execution_count": 119,
     "metadata": {},
     "output_type": "execute_result"
    }
   ],
   "source": [
    "meansd[:,:,0]"
   ]
  },
  {
   "cell_type": "code",
   "execution_count": 120,
   "metadata": {
    "collapsed": true
   },
   "outputs": [],
   "source": [
    "period_num = meansd.shape[0] # in stage 1, 5\n",
    "var_num = meansd.shape[1] # always 5"
   ]
  },
  {
   "cell_type": "code",
   "execution_count": 121,
   "metadata": {
    "collapsed": false
   },
   "outputs": [
    {
     "name": "stdout",
     "output_type": "stream",
     "text": [
      "Wall time: 26 ms\n"
     ]
    }
   ],
   "source": [
    "%%time\n",
    "with model:\n",
    "    # 这里要设定5个参数 'shift_lam','ctrl_lam','x_lam','move_mean','move_sd' 的正态分布，在stage 1里有五个阶段\n",
    "    param5 = Normal('param5',mu = meansd[:,:,0],sd = meansd[:,:,1], shape=(period_num, var_num))"
   ]
  },
  {
   "cell_type": "code",
   "execution_count": 122,
   "metadata": {
    "collapsed": false
   },
   "outputs": [
    {
     "data": {
      "text/plain": [
       "array([[ 1.,  0.,  0.,  0.],\n",
       "       [ 1.,  1.,  0.,  0.],\n",
       "       [ 1.,  1.,  1.,  0.],\n",
       "       [ 1.,  1.,  1.,  1.]], dtype=float32)"
      ]
     },
     "execution_count": 122,
     "metadata": {},
     "output_type": "execute_result"
    }
   ],
   "source": [
    "np.triu(np.ones((4,4),dtype='float32')).T"
   ]
  },
  {
   "cell_type": "code",
   "execution_count": 123,
   "metadata": {
    "collapsed": true
   },
   "outputs": [],
   "source": [
    "durations_num = time_length.shape[0]\n",
    "assert time_length.shape[0] == period_num - 1\n",
    "replay_num = stage.shape[0]\n",
    "\n",
    "cumsum_mat = np.triu(np.ones((durations_num, durations_num),dtype='float32')).T"
   ]
  },
  {
   "cell_type": "code",
   "execution_count": 124,
   "metadata": {
    "collapsed": false
   },
   "outputs": [
    {
     "name": "stdout",
     "output_type": "stream",
     "text": [
      "Wall time: 33 ms\n"
     ]
    }
   ],
   "source": [
    "%%time\n",
    "with model:\n",
    "    # 这里设定stage 1 里5个阶段对应的前4个阶段的持续时间，然后定义断点为持续时间的函数\n",
    "    # 虽然这个变量不应该是伪随机变量或随机参数，而是隐变量，所以每个replay应该对应一个向量实现，这是第一次用上replay数量信息（之前就搞错了。。）\n",
    "    durations = Normal('durations', mu = time_length[:,0], sd = time_length[:,1], shape = (replay_num, durations_num))\n",
    "    #breaks = pm.math.dot(cumsum_mat, durations) # 使用矩阵技巧不用那个脑残的列表构造\n",
    "    breaks = tt.cumsum(durations, axis=1) # 202 * 4 matrix \n",
    "    Deterministic('breaks', breaks)\n",
    "    "
   ]
  },
  {
   "cell_type": "code",
   "execution_count": 125,
   "metadata": {
    "collapsed": false
   },
   "outputs": [
    {
     "data": {
      "text/plain": [
       "[param5, durations]"
      ]
     },
     "execution_count": 125,
     "metadata": {},
     "output_type": "execute_result"
    }
   ],
   "source": [
    "model.free_RVs"
   ]
  },
  {
   "cell_type": "code",
   "execution_count": 126,
   "metadata": {
    "collapsed": true
   },
   "outputs": [],
   "source": [
    "stage_length = stage.shape[2]\n",
    "time_axis = np.arange(stage_length)\n",
    "\n",
    "#_time_axis = np.tile(time_axis,(durations_num,1)) # tile matrix trick to apply elementwise logic computing. wtf, I want boardcas"
   ]
  },
  {
   "cell_type": "code",
   "execution_count": 127,
   "metadata": {
    "collapsed": false
   },
   "outputs": [
    {
     "data": {
      "text/plain": [
       "(202, 4, 193)"
      ]
     },
     "execution_count": 127,
     "metadata": {},
     "output_type": "execute_result"
    }
   ],
   "source": [
    "_time_axis = np.tile(time_axis,(replay_num,durations_num,1)) # add batch...\n",
    "_time_axis.shape"
   ]
  },
  {
   "cell_type": "code",
   "execution_count": 128,
   "metadata": {
    "collapsed": false
   },
   "outputs": [
    {
     "data": {
      "text/plain": [
       "(193, 202, 4)"
      ]
     },
     "execution_count": 128,
     "metadata": {},
     "output_type": "execute_result"
    }
   ],
   "source": [
    "np.tile(np.empty((202,4)),(stage_length, 1,1)).shape \n",
    "# it copy the (202,4) matrix 193 times into the new first axis,we need transpose it for our purpose"
   ]
  },
  {
   "cell_type": "code",
   "execution_count": 129,
   "metadata": {
    "collapsed": false
   },
   "outputs": [
    {
     "data": {
      "text/plain": [
       "(202, 4, 193)"
      ]
     },
     "execution_count": 129,
     "metadata": {},
     "output_type": "execute_result"
    }
   ],
   "source": [
    "np.transpose(np.tile(np.empty((202,4)),(stage_length, 1,1)),[1,2,0]).shape\n",
    "# well, it exactly is we want."
   ]
  },
  {
   "cell_type": "code",
   "execution_count": 130,
   "metadata": {
    "collapsed": false
   },
   "outputs": [
    {
     "name": "stdout",
     "output_type": "stream",
     "text": [
      "Wall time: 48 ms\n"
     ]
    }
   ],
   "source": [
    "%%time\n",
    "with model:\n",
    "    # 这里定义出193个时间步到底属于哪个类，这是个大坑，之前居然没想到where(x > y,1,0)之类的方法把逻辑值转成01真是脑残了。。\n",
    "    _breaks = tt.transpose(tt.tile(breaks,(stage_length, 1, 1)),[1,2,0]) # 高维转置。。看的都头大，和单向量情况还不一样，醉了。。\n",
    "    _mask =  pm.math.where(time_axis > _breaks, 1, 0)\n",
    "    index = pm.Deterministic('index', tt.sum(_mask, axis=1)) # 202 * 193 matrix"
   ]
  },
  {
   "cell_type": "code",
   "execution_count": 131,
   "metadata": {
    "collapsed": false
   },
   "outputs": [
    {
     "name": "stdout",
     "output_type": "stream",
     "text": [
      "Wall time: 48.2 s\n"
     ]
    }
   ],
   "source": [
    "%%time\n",
    "with model:\n",
    "    # 最终定义4个可观测变量如何和前面那坨东西联系起来\n",
    "    '''\n",
    "    _param = param5[index] \n",
    "    # _param is 202 * 193 * 5 array, param5 is 5 x 5 matrix ( 5 for period * 5 for var_num), index is 202 * 193 matrix (202 for obs 193 for stage length)\n",
    "    well, I can't find a vector way to do it, so I can only resort the ugly circle...\n",
    "    '''\n",
    "    '''\n",
    "    _param = tt.zeros((replay_num, stage_length, var_num))\n",
    "    for i in range(replay_num):\n",
    "        _param[i,:,:] = _param = param5[index[i]]\n",
    "    # This way will raise `TypeError: 'TensorVariable' object does not support item assignment`\n",
    "    '''\n",
    "    _param_list = []\n",
    "    for i in range(replay_num):\n",
    "        _param_list.append(param5[index[i]])\n",
    "    _param = pm.math.stack(_param_list)\n",
    "    pressing_shift = Poisson('pressing_shift', mu = _param[:,:,0], observed = stage[:,0,:]) # 202 * 193 matrix\n",
    "    pressing_ctrl = Poisson('pressing_ctrl', mu = _param[:,:,1], observed = stage[:,1,:])\n",
    "    pressing_x = Poisson('pressing_x', mu = _param[:,:,2], observed = stage[:,2,:])\n",
    "    move = Normal('move', mu = _param[:,:,3], sd = _param[:,:,4], observed = stage[:,3,:])"
   ]
  },
  {
   "cell_type": "code",
   "execution_count": null,
   "metadata": {
    "collapsed": true
   },
   "outputs": [],
   "source": [
    "# Go on!\n",
    "with model:\n",
    "    trace = pm.sample(100)"
   ]
  },
  {
   "cell_type": "code",
   "execution_count": null,
   "metadata": {
    "collapsed": true
   },
   "outputs": [],
   "source": []
  }
 ],
 "metadata": {
  "kernelspec": {
   "display_name": "Python [Root]",
   "language": "python",
   "name": "Python [Root]"
  }
 },
 "nbformat": 4,
 "nbformat_minor": 0
}
